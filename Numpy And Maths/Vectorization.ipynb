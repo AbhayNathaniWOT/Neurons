{
 "cells": [
  {
   "cell_type": "code",
   "execution_count": 4,
   "metadata": {},
   "outputs": [],
   "source": [
    "import numpy as np\n"
   ]
  },
  {
   "cell_type": "code",
   "execution_count": 5,
   "metadata": {},
   "outputs": [],
   "source": [
    "weights = np.array([1,2,3,4])\n",
    "X = np.array([1,2,3,5])\n",
    "bias = np.array([1,2,3,4])\n",
    "# We Want Sum(Wi * Xi) for all i \n"
   ]
  },
  {
   "cell_type": "code",
   "execution_count": 6,
   "metadata": {},
   "outputs": [
    {
     "name": "stdout",
     "output_type": "stream",
     "text": [
      "X-> (4,)\n",
      "X.T-> (4,)\n",
      "weights-> (4,)\n",
      "weights.T-> (4,)\n"
     ]
    }
   ],
   "source": [
    "print(\"X->\",X.shape)\n",
    "print(\"X.T->\",X.T.shape)\n",
    "print(\"weights->\",weights.shape)\n",
    "print(\"weights.T->\",weights.T.shape)"
   ]
  },
  {
   "cell_type": "code",
   "execution_count": 7,
   "metadata": {},
   "outputs": [],
   "source": [
    "z = weights@X + bias"
   ]
  },
  {
   "cell_type": "code",
   "execution_count": 8,
   "metadata": {},
   "outputs": [
    {
     "data": {
      "text/plain": [
       "array([35, 36, 37, 38])"
      ]
     },
     "execution_count": 8,
     "metadata": {},
     "output_type": "execute_result"
    }
   ],
   "source": []
  },
  {
   "cell_type": "code",
   "execution_count": null,
   "metadata": {},
   "outputs": [],
   "source": []
  }
 ],
 "metadata": {
  "kernelspec": {
   "display_name": "base",
   "language": "python",
   "name": "python3"
  },
  "language_info": {
   "codemirror_mode": {
    "name": "ipython",
    "version": 3
   },
   "file_extension": ".py",
   "mimetype": "text/x-python",
   "name": "python",
   "nbconvert_exporter": "python",
   "pygments_lexer": "ipython3",
   "version": "3.10.8"
  },
  "orig_nbformat": 4,
  "vscode": {
   "interpreter": {
    "hash": "276ee29dcfb8128367cd0ee0a3cb0717eb6fbadf6584b2814bfe39aa22b27f6b"
   }
  }
 },
 "nbformat": 4,
 "nbformat_minor": 2
}
